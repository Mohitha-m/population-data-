{
  "nbformat": 4,
  "nbformat_minor": 0,
  "metadata": {
    "colab": {
      "provenance": [],
      "private_outputs": true,
      "cell_execution_strategy": "setup",
      "authorship_tag": "ABX9TyNjD+y+QeuaxItByoVsQ8dy",
      "include_colab_link": true
    },
    "kernelspec": {
      "name": "python3",
      "display_name": "Python 3"
    },
    "language_info": {
      "name": "python"
    }
  },
  "cells": [
    {
      "cell_type": "markdown",
      "metadata": {
        "id": "view-in-github",
        "colab_type": "text"
      },
      "source": [
        "<a href=\"https://colab.research.google.com/github/Mohitha-m/population-data-/blob/main/task1.ipynb\" target=\"_parent\"><img src=\"https://colab.research.google.com/assets/colab-badge.svg\" alt=\"Open In Colab\"/></a>"
      ]
    },
    {
      "cell_type": "code",
      "execution_count": null,
      "metadata": {
        "id": "Grd49Y7iT4Lq"
      },
      "outputs": [],
      "source": [
        "\n",
        "import numpy as np\n",
        "import pandas as pd\n",
        "import requests\n",
        "import matplotlib.pyplot as plt\n",
        "import seaborn as sns\n",
        "import warnings\n",
        "warnings.filterwarnings('ignore')\n"
      ]
    },
    {
      "cell_type": "code",
      "source": [
        "!pip install wbgapi"
      ],
      "metadata": {
        "id": "2xx2649R9_wG"
      },
      "execution_count": null,
      "outputs": []
    },
    {
      "cell_type": "code",
      "source": [
        "import wbgapi as wb\n",
        "import pandas as pd"
      ],
      "metadata": {
        "id": "W4v9DuUB-HLl"
      },
      "execution_count": null,
      "outputs": []
    },
    {
      "cell_type": "code",
      "source": [
        "df = pd.read_csv('/content/API_SP.POP.TOTL_DS2_en_csv_v2_900 (1).csv', skiprows=4)\n"
      ],
      "metadata": {
        "id": "NJKuoXXFDo9M"
      },
      "execution_count": null,
      "outputs": []
    },
    {
      "cell_type": "code",
      "source": [
        "df"
      ],
      "metadata": {
        "id": "KN4Q6sg_-gDa"
      },
      "execution_count": null,
      "outputs": []
    },
    {
      "cell_type": "code",
      "source": [
        "df.head()"
      ],
      "metadata": {
        "id": "dW_KIZyGBlBz"
      },
      "execution_count": null,
      "outputs": []
    },
    {
      "cell_type": "code",
      "source": [
        "df.tail()"
      ],
      "metadata": {
        "id": "z83SBp3YYoeH"
      },
      "execution_count": null,
      "outputs": []
    },
    {
      "cell_type": "code",
      "source": [
        "df.shape"
      ],
      "metadata": {
        "id": "eXHVZF92_gMQ"
      },
      "execution_count": null,
      "outputs": []
    },
    {
      "cell_type": "code",
      "source": [
        "df.columns"
      ],
      "metadata": {
        "id": "McTlQaBe_gQ-"
      },
      "execution_count": null,
      "outputs": []
    },
    {
      "cell_type": "code",
      "source": [
        "df.dtypes"
      ],
      "metadata": {
        "id": "vFPFviFe_gTv"
      },
      "execution_count": null,
      "outputs": []
    },
    {
      "cell_type": "code",
      "source": [
        "df.info()"
      ],
      "metadata": {
        "id": "5JekKrum_gWs"
      },
      "execution_count": null,
      "outputs": []
    },
    {
      "cell_type": "code",
      "source": [
        "df.describe()"
      ],
      "metadata": {
        "id": "GIecSCpa_gZW"
      },
      "execution_count": null,
      "outputs": []
    },
    {
      "cell_type": "code",
      "source": [
        "df.duplicated().sum()"
      ],
      "metadata": {
        "id": "ZOoaGZm9_gcD"
      },
      "execution_count": null,
      "outputs": []
    },
    {
      "cell_type": "code",
      "source": [
        "df.isna().sum().any()"
      ],
      "metadata": {
        "id": "pVHUEb1e_gfj"
      },
      "execution_count": null,
      "outputs": []
    },
    {
      "cell_type": "code",
      "source": [
        "df = df.fillna(method = \"ffill\")\n",
        "df.head()\n"
      ],
      "metadata": {
        "id": "CeddGOaL__lo"
      },
      "execution_count": null,
      "outputs": []
    },
    {
      "cell_type": "code",
      "source": [
        "df.isna().sum().any()"
      ],
      "metadata": {
        "id": "fQj_zPLl__pP"
      },
      "execution_count": null,
      "outputs": []
    },
    {
      "cell_type": "code",
      "source": [
        "df = df.fillna(method = \"ffill\")\n",
        "df.head()"
      ],
      "metadata": {
        "id": "p4G6XgV1JouV"
      },
      "execution_count": null,
      "outputs": []
    },
    {
      "cell_type": "code",
      "source": [
        "df.isna().sum().any()"
      ],
      "metadata": {
        "id": "XGhH7po7JsOg"
      },
      "execution_count": null,
      "outputs": []
    },
    {
      "cell_type": "code",
      "source": [
        "df['Country Name'].unique()\n",
        "\n",
        "\n"
      ],
      "metadata": {
        "id": "_D9nvOFo__r0"
      },
      "execution_count": null,
      "outputs": []
    },
    {
      "cell_type": "code",
      "source": [
        "df['Country Code'].unique()"
      ],
      "metadata": {
        "id": "GNNr18TY__uK"
      },
      "execution_count": null,
      "outputs": []
    },
    {
      "cell_type": "code",
      "source": [
        "df['Indicator Name'].unique()"
      ],
      "metadata": {
        "id": "wu0lMuXa__ww"
      },
      "execution_count": null,
      "outputs": []
    },
    {
      "cell_type": "code",
      "source": [
        "df['Indicator Code'].unique()"
      ],
      "metadata": {
        "id": "9tWbNdxR__zq"
      },
      "execution_count": null,
      "outputs": []
    },
    {
      "cell_type": "code",
      "source": [
        "df.drop(['Indicator Name','Indicator Code','Country Code'],axis = 1, inplace = True)\n"
      ],
      "metadata": {
        "id": "nFnq3Ls2__3U"
      },
      "execution_count": null,
      "outputs": []
    },
    {
      "cell_type": "code",
      "source": [
        "df.columns"
      ],
      "metadata": {
        "id": "oEN49toDKCnj"
      },
      "execution_count": null,
      "outputs": []
    },
    {
      "cell_type": "code",
      "source": [
        "cols = ['1960', '1961', '1962', '1963', '1964', '1965', '1966',\n",
        "       '1967', '1968', '1969', '1970', '1971', '1972', '1973', '1974', '1975',\n",
        "       '1976', '1977', '1978', '1979', '1980', '1981', '1982', '1983', '1984',\n",
        "       '1985', '1986', '1987', '1988', '1989', '1990', '1991', '1992', '1993',\n",
        "       '1994', '1995', '1996', '1997', '1998', '1999', '2000','2001', '2002', '2003', '2004', '2005', '2006', '2007',\n",
        "       '2008', '2009', '2010', '2011', '2012', '2013', '2014', '2015', '2016',\n",
        "       '2017', '2018', '2019', '2020', '2021', '2022']"
      ],
      "metadata": {
        "id": "ClT4vsuKKSG1"
      },
      "execution_count": null,
      "outputs": []
    },
    {
      "cell_type": "code",
      "source": [
        "for i in cols:\n",
        "        fig = plt.figure(figsize=(5,5))\n",
        "        plt.hist(df[i],color='#B22222',bins=10)\n",
        "        plt.xlabel(i)\n",
        "        plt.show()"
      ],
      "metadata": {
        "id": "WF9W-IZsKCqO"
      },
      "execution_count": null,
      "outputs": []
    },
    {
      "cell_type": "code",
      "source": [
        "years = df.columns[1:]\n",
        "\n",
        "total_values = df[years].sum()\n",
        "\n",
        "plt.figure(figsize=(30, 30))\n",
        "plt.barh(years, total_values,color='#191970')\n",
        "plt.xlabel('Total Values')\n",
        "plt.ylabel('Year', size=20)\n",
        "plt.title('Total Values per Year', size=20)\n",
        "plt.show()"
      ],
      "metadata": {
        "id": "43buDsvsKCtF"
      },
      "execution_count": null,
      "outputs": []
    },
    {
      "cell_type": "code",
      "source": [
        "country_by_1990 = df.sort_values(by='1990').head(20)\n",
        "country_by_1990"
      ],
      "metadata": {
        "id": "dqLvu-NnKCvv"
      },
      "execution_count": null,
      "outputs": []
    },
    {
      "cell_type": "code",
      "source": [
        "country_by_1990_t = country_by_1990.set_index('Country Name').T\n",
        "for country_name, data_values in country_by_1990_t.iterrows():\n",
        "    fig = plt.figure(figsize=(10, 5))\n",
        "    sns.barplot(x=data_values.index, y=data_values.values)\n",
        "    plt.xlabel('Countries')\n",
        "    plt.ylabel('Data Values')\n",
        "    plt.title(f\"{country_name} - Data Values from 1990 to 2022\")\n",
        "    plt.xticks(rotation=90)\n",
        "    plt.show()"
      ],
      "metadata": {
        "id": "tSviR4unKCyf"
      },
      "execution_count": null,
      "outputs": []
    },
    {
      "cell_type": "code",
      "source": [
        "country_by_2022 = df.sort_values(by='2022').head(20)\n",
        "country_by_2022"
      ],
      "metadata": {
        "id": "aKuG1PRVKC1P"
      },
      "execution_count": null,
      "outputs": []
    },
    {
      "cell_type": "code",
      "source": [
        "country_by_2022_t = country_by_2022.set_index('Country Name').T\n",
        "for country_name, data_values in country_by_2022_t.iterrows():\n",
        "    fig = plt.figure(figsize=(10, 5))\n",
        "    sns.barplot(x=data_values.index, y=data_values.values)\n",
        "    plt.xlabel('Year')\n",
        "    plt.ylabel('Data Value')\n",
        "    plt.title(f\"{country_name} - Data Values from 1960 to 2022\")\n",
        "    plt.xticks(rotation=90)\n",
        "    plt.show()"
      ],
      "metadata": {
        "id": "CF-on5WJKC3y"
      },
      "execution_count": null,
      "outputs": []
    }
  ]
}